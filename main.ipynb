{
 "cells": [
  {
   "cell_type": "code",
   "execution_count": 1,
   "metadata": {},
   "outputs": [],
   "source": [
    "import pandas as pd\n",
    "import numpy as np\n",
    "import matplotlib.pyplot as plt\n",
    "\n",
    "import plotly.graph_objects as go\n"
   ]
  },
  {
   "cell_type": "code",
   "execution_count": 2,
   "metadata": {},
   "outputs": [
    {
     "data": {
      "text/html": [
       "<div>\n",
       "<style scoped>\n",
       "    .dataframe tbody tr th:only-of-type {\n",
       "        vertical-align: middle;\n",
       "    }\n",
       "\n",
       "    .dataframe tbody tr th {\n",
       "        vertical-align: top;\n",
       "    }\n",
       "\n",
       "    .dataframe thead th {\n",
       "        text-align: right;\n",
       "    }\n",
       "</style>\n",
       "<table border=\"1\" class=\"dataframe\">\n",
       "  <thead>\n",
       "    <tr style=\"text-align: right;\">\n",
       "      <th></th>\n",
       "      <th>Montant</th>\n",
       "      <th>Catégorie</th>\n",
       "      <th>Sous-Catégorie</th>\n",
       "      <th>month</th>\n",
       "    </tr>\n",
       "  </thead>\n",
       "  <tbody>\n",
       "    <tr>\n",
       "      <th>0</th>\n",
       "      <td>-22.52</td>\n",
       "      <td>Alimentation &amp; Restau.</td>\n",
       "      <td>Supermarché / Epicerie</td>\n",
       "      <td>7</td>\n",
       "    </tr>\n",
       "    <tr>\n",
       "      <th>1</th>\n",
       "      <td>-9.99</td>\n",
       "      <td>Loisirs &amp; Sorties</td>\n",
       "      <td>Divertissements</td>\n",
       "      <td>7</td>\n",
       "    </tr>\n",
       "    <tr>\n",
       "      <th>2</th>\n",
       "      <td>10.00</td>\n",
       "      <td>Entrées d'argent</td>\n",
       "      <td>Autres rentrées</td>\n",
       "      <td>6</td>\n",
       "    </tr>\n",
       "    <tr>\n",
       "      <th>3</th>\n",
       "      <td>-10.99</td>\n",
       "      <td>Dépenses pro</td>\n",
       "      <td>Services en ligne</td>\n",
       "      <td>6</td>\n",
       "    </tr>\n",
       "    <tr>\n",
       "      <th>4</th>\n",
       "      <td>-23.24</td>\n",
       "      <td>Loisirs &amp; Sorties</td>\n",
       "      <td>Divertissements</td>\n",
       "      <td>6</td>\n",
       "    </tr>\n",
       "  </tbody>\n",
       "</table>\n",
       "</div>"
      ],
      "text/plain": [
       "   Montant               Catégorie          Sous-Catégorie  month\n",
       "0   -22.52  Alimentation & Restau.  Supermarché / Epicerie      7\n",
       "1    -9.99       Loisirs & Sorties         Divertissements      7\n",
       "2    10.00        Entrées d'argent         Autres rentrées      6\n",
       "3   -10.99            Dépenses pro       Services en ligne      6\n",
       "4   -23.24       Loisirs & Sorties         Divertissements      6"
      ]
     },
     "execution_count": 2,
     "metadata": {},
     "output_type": "execute_result"
    }
   ],
   "source": [
    "df = pd.read_csv('data.csv', sep=';')\n",
    "df['Date'] = pd.to_datetime(df['Date'], format=\"%d/%m/%Y\")\n",
    "df[\"month\"] = df[\"Date\"].dt.month\n",
    "df.drop([\"Date\", \"Note\", \"Pointée\", \"Description\", \"Compte\"], axis=1, inplace=True)\n",
    "df.head()"
   ]
  },
  {
   "cell_type": "markdown",
   "metadata": {},
   "source": [
    "## Clean dataframe "
   ]
  },
  {
   "cell_type": "code",
   "execution_count": 3,
   "metadata": {},
   "outputs": [],
   "source": [
    "df = df[df[\"Catégorie\"] != \"Entrées d'argent\"]\n",
    "df = df[df[\"Sous-Catégorie\"] != \"Virements internes\"]\n",
    "df = df[df[\"Sous-Catégorie\"] != \"Débit mensuel carte\"]\n"
   ]
  },
  {
   "cell_type": "markdown",
   "metadata": {},
   "source": [
    "## Mean over the months"
   ]
  },
  {
   "cell_type": "code",
   "execution_count": 41,
   "metadata": {},
   "outputs": [
    {
     "data": {
      "text/html": [
       "<div>\n",
       "<style scoped>\n",
       "    .dataframe tbody tr th:only-of-type {\n",
       "        vertical-align: middle;\n",
       "    }\n",
       "\n",
       "    .dataframe tbody tr th {\n",
       "        vertical-align: top;\n",
       "    }\n",
       "\n",
       "    .dataframe thead th {\n",
       "        text-align: right;\n",
       "    }\n",
       "</style>\n",
       "<table border=\"1\" class=\"dataframe\">\n",
       "  <thead>\n",
       "    <tr style=\"text-align: right;\">\n",
       "      <th></th>\n",
       "      <th></th>\n",
       "      <th>Montant</th>\n",
       "    </tr>\n",
       "    <tr>\n",
       "      <th>month</th>\n",
       "      <th>Catégorie</th>\n",
       "      <th></th>\n",
       "    </tr>\n",
       "  </thead>\n",
       "  <tbody>\n",
       "    <tr>\n",
       "      <th rowspan=\"9\" valign=\"top\">1</th>\n",
       "      <th>Banque</th>\n",
       "      <td>-2051.63</td>\n",
       "    </tr>\n",
       "    <tr>\n",
       "      <th>Loisirs &amp; Sorties</th>\n",
       "      <td>-646.27</td>\n",
       "    </tr>\n",
       "    <tr>\n",
       "      <th>Logement</th>\n",
       "      <td>-430.44</td>\n",
       "    </tr>\n",
       "    <tr>\n",
       "      <th>Alimentation &amp; Restau.</th>\n",
       "      <td>-352.88</td>\n",
       "    </tr>\n",
       "    <tr>\n",
       "      <th>Achats &amp; Shopping</th>\n",
       "      <td>-294.77</td>\n",
       "    </tr>\n",
       "    <tr>\n",
       "      <th>Santé</th>\n",
       "      <td>-77.07</td>\n",
       "    </tr>\n",
       "    <tr>\n",
       "      <th>Auto &amp; Transports</th>\n",
       "      <td>-52.62</td>\n",
       "    </tr>\n",
       "    <tr>\n",
       "      <th>Abonnements</th>\n",
       "      <td>-50.98</td>\n",
       "    </tr>\n",
       "    <tr>\n",
       "      <th>Divers</th>\n",
       "      <td>-27.65</td>\n",
       "    </tr>\n",
       "    <tr>\n",
       "      <th>2</th>\n",
       "      <th>Banque</th>\n",
       "      <td>-1051.63</td>\n",
       "    </tr>\n",
       "  </tbody>\n",
       "</table>\n",
       "</div>"
      ],
      "text/plain": [
       "                              Montant\n",
       "month Catégorie                      \n",
       "1     Banque                 -2051.63\n",
       "      Loisirs & Sorties       -646.27\n",
       "      Logement                -430.44\n",
       "      Alimentation & Restau.  -352.88\n",
       "      Achats & Shopping       -294.77\n",
       "      Santé                    -77.07\n",
       "      Auto & Transports        -52.62\n",
       "      Abonnements              -50.98\n",
       "      Divers                   -27.65\n",
       "2     Banque                 -1051.63"
      ]
     },
     "execution_count": 41,
     "metadata": {},
     "output_type": "execute_result"
    },
    {
     "data": {
      "image/png": "[encoded data removed]",
      "text/plain": [
       "<Figure size 1500x500 with 1 Axes>"
      ]
     },
     "metadata": {},
     "output_type": "display_data"
    }
   ],
   "source": [
    "sum_df = df.drop([\"Sous-Catégorie\"], axis=1)\n",
    "sum_df = sum_df.groupby([\"month\", \"Catégorie\"]).sum()\n",
    "sum_df.sort_values(by=[\"month\", \"Montant\"], ascending=True, inplace=True)\n",
    "sum_df[\"Montant\"].unstack(level=1).plot(\n",
    "    figsize=(15, 5),\n",
    "    kind='bar',\n",
    "    stacked=True,\n",
    "    grid=True,\n",
    "    rot=45,\n",
    "    label=\"Montant\",\n",
    "    title=\"Montant par mois et par catégorie\"\n",
    ")\n",
    "sum_df.head(10)\n"
   ]
  },
  {
   "cell_type": "code",
   "execution_count": 4,
   "metadata": {},
   "outputs": [
    {
     "data": {
      "text/html": [
       "<div>\n",
       "<style scoped>\n",
       "    .dataframe tbody tr th:only-of-type {\n",
       "        vertical-align: middle;\n",
       "    }\n",
       "\n",
       "    .dataframe tbody tr th {\n",
       "        vertical-align: top;\n",
       "    }\n",
       "\n",
       "    .dataframe thead th {\n",
       "        text-align: right;\n",
       "    }\n",
       "</style>\n",
       "<table border=\"1\" class=\"dataframe\">\n",
       "  <thead>\n",
       "    <tr style=\"text-align: right;\">\n",
       "      <th></th>\n",
       "      <th></th>\n",
       "      <th>Montant</th>\n",
       "    </tr>\n",
       "    <tr>\n",
       "      <th>Catégorie</th>\n",
       "      <th>Sous-Catégorie</th>\n",
       "      <th></th>\n",
       "    </tr>\n",
       "  </thead>\n",
       "  <tbody>\n",
       "    <tr>\n",
       "      <th rowspan=\"3\" valign=\"top\">Abonnements</th>\n",
       "      <th>Abonnements - Autres</th>\n",
       "      <td>-46.23</td>\n",
       "    </tr>\n",
       "    <tr>\n",
       "      <th>Internet</th>\n",
       "      <td>-244.93</td>\n",
       "    </tr>\n",
       "    <tr>\n",
       "      <th>Téléphonie mobile</th>\n",
       "      <td>-111.93</td>\n",
       "    </tr>\n",
       "    <tr>\n",
       "      <th rowspan=\"5\" valign=\"top\">Achats &amp; Shopping</th>\n",
       "      <th>Achats &amp; Shopping - Autres</th>\n",
       "      <td>-452.95</td>\n",
       "    </tr>\n",
       "    <tr>\n",
       "      <th>Articles de sport</th>\n",
       "      <td>-12.00</td>\n",
       "    </tr>\n",
       "    <tr>\n",
       "      <th>Cadeaux</th>\n",
       "      <td>-251.46</td>\n",
       "    </tr>\n",
       "    <tr>\n",
       "      <th>Films &amp; DVDs</th>\n",
       "      <td>-33.98</td>\n",
       "    </tr>\n",
       "    <tr>\n",
       "      <th>Vêtements/Chaussures</th>\n",
       "      <td>-1361.42</td>\n",
       "    </tr>\n",
       "    <tr>\n",
       "      <th rowspan=\"5\" valign=\"top\">Alimentation &amp; Restau.</th>\n",
       "      <th>Alimentation - Autres</th>\n",
       "      <td>-119.15</td>\n",
       "    </tr>\n",
       "    <tr>\n",
       "      <th>Café</th>\n",
       "      <td>-73.80</td>\n",
       "    </tr>\n",
       "    <tr>\n",
       "      <th>Fast foods</th>\n",
       "      <td>-491.42</td>\n",
       "    </tr>\n",
       "    <tr>\n",
       "      <th>Restaurants</th>\n",
       "      <td>-472.80</td>\n",
       "    </tr>\n",
       "    <tr>\n",
       "      <th>Supermarché / Epicerie</th>\n",
       "      <td>-1300.49</td>\n",
       "    </tr>\n",
       "    <tr>\n",
       "      <th rowspan=\"7\" valign=\"top\">Auto &amp; Transports</th>\n",
       "      <th>Auto &amp; Transports - Autres</th>\n",
       "      <td>-29.55</td>\n",
       "    </tr>\n",
       "    <tr>\n",
       "      <th>Billets d'avion</th>\n",
       "      <td>-97.98</td>\n",
       "    </tr>\n",
       "    <tr>\n",
       "      <th>Billets de train</th>\n",
       "      <td>-1322.00</td>\n",
       "    </tr>\n",
       "    <tr>\n",
       "      <th>Carburant</th>\n",
       "      <td>-146.71</td>\n",
       "    </tr>\n",
       "    <tr>\n",
       "      <th>Location de véhicule</th>\n",
       "      <td>-55.88</td>\n",
       "    </tr>\n",
       "    <tr>\n",
       "      <th>Stationnement</th>\n",
       "      <td>-5.75</td>\n",
       "    </tr>\n",
       "    <tr>\n",
       "      <th>Transports en commun</th>\n",
       "      <td>-41.10</td>\n",
       "    </tr>\n",
       "    <tr>\n",
       "      <th rowspan=\"3\" valign=\"top\">Banque</th>\n",
       "      <th>Epargne</th>\n",
       "      <td>-150.00</td>\n",
       "    </tr>\n",
       "    <tr>\n",
       "      <th>Frais bancaires</th>\n",
       "      <td>-8.00</td>\n",
       "    </tr>\n",
       "    <tr>\n",
       "      <th>Remboursement emprunt</th>\n",
       "      <td>-7822.41</td>\n",
       "    </tr>\n",
       "    <tr>\n",
       "      <th rowspan=\"4\" valign=\"top\">Divers</th>\n",
       "      <th>A catégoriser</th>\n",
       "      <td>-216.15</td>\n",
       "    </tr>\n",
       "    <tr>\n",
       "      <th>Assurance</th>\n",
       "      <td>-123.62</td>\n",
       "    </tr>\n",
       "    <tr>\n",
       "      <th>Autres dépenses</th>\n",
       "      <td>-9.99</td>\n",
       "    </tr>\n",
       "    <tr>\n",
       "      <th>Tabac</th>\n",
       "      <td>-68.45</td>\n",
       "    </tr>\n",
       "    <tr>\n",
       "      <th rowspan=\"4\" valign=\"top\">Dépenses pro</th>\n",
       "      <th>Frais d'expéditions</th>\n",
       "      <td>-6.13</td>\n",
       "    </tr>\n",
       "    <tr>\n",
       "      <th>Frais juridique</th>\n",
       "      <td>-110.63</td>\n",
       "    </tr>\n",
       "    <tr>\n",
       "      <th>Notes de frais</th>\n",
       "      <td>-75.40</td>\n",
       "    </tr>\n",
       "    <tr>\n",
       "      <th>Services en ligne</th>\n",
       "      <td>-41.23</td>\n",
       "    </tr>\n",
       "    <tr>\n",
       "      <th>Esthétique &amp; Soins</th>\n",
       "      <th>Esthétique</th>\n",
       "      <td>-28.17</td>\n",
       "    </tr>\n",
       "    <tr>\n",
       "      <th rowspan=\"4\" valign=\"top\">Logement</th>\n",
       "      <th>Assurance habitation</th>\n",
       "      <td>-130.51</td>\n",
       "    </tr>\n",
       "    <tr>\n",
       "      <th>Charges diverses</th>\n",
       "      <td>-1268.73</td>\n",
       "    </tr>\n",
       "    <tr>\n",
       "      <th>Décoration</th>\n",
       "      <td>-9.49</td>\n",
       "    </tr>\n",
       "    <tr>\n",
       "      <th>Electricité</th>\n",
       "      <td>-157.65</td>\n",
       "    </tr>\n",
       "    <tr>\n",
       "      <th rowspan=\"8\" valign=\"top\">Loisirs &amp; Sorties</th>\n",
       "      <th>Bars / Clubs</th>\n",
       "      <td>-981.10</td>\n",
       "    </tr>\n",
       "    <tr>\n",
       "      <th>Divertissements</th>\n",
       "      <td>-221.00</td>\n",
       "    </tr>\n",
       "    <tr>\n",
       "      <th>Hôtels</th>\n",
       "      <td>-24.00</td>\n",
       "    </tr>\n",
       "    <tr>\n",
       "      <th>Loisirs &amp; Sorties - Autres</th>\n",
       "      <td>-119.33</td>\n",
       "    </tr>\n",
       "    <tr>\n",
       "      <th>Sortie au restaurant</th>\n",
       "      <td>-137.26</td>\n",
       "    </tr>\n",
       "    <tr>\n",
       "      <th>Sorties culturelles</th>\n",
       "      <td>-179.45</td>\n",
       "    </tr>\n",
       "    <tr>\n",
       "      <th>Sport</th>\n",
       "      <td>-669.30</td>\n",
       "    </tr>\n",
       "    <tr>\n",
       "      <th>Voyages / Vacances</th>\n",
       "      <td>-3016.47</td>\n",
       "    </tr>\n",
       "    <tr>\n",
       "      <th>Retraits, Chq. et Vir.</th>\n",
       "      <th>Retraits</th>\n",
       "      <td>-970.00</td>\n",
       "    </tr>\n",
       "    <tr>\n",
       "      <th rowspan=\"2\" valign=\"top\">Santé</th>\n",
       "      <th>Pharmacie</th>\n",
       "      <td>-29.90</td>\n",
       "    </tr>\n",
       "    <tr>\n",
       "      <th>Santé - Autres</th>\n",
       "      <td>-77.07</td>\n",
       "    </tr>\n",
       "  </tbody>\n",
       "</table>\n",
       "</div>"
      ],
      "text/plain": [
       "                                                   Montant\n",
       "Catégorie              Sous-Catégorie                     \n",
       "Abonnements            Abonnements - Autres         -46.23\n",
       "                       Internet                    -244.93\n",
       "                       Téléphonie mobile           -111.93\n",
       "Achats & Shopping      Achats & Shopping - Autres  -452.95\n",
       "                       Articles de sport            -12.00\n",
       "                       Cadeaux                     -251.46\n",
       "                       Films & DVDs                 -33.98\n",
       "                       Vêtements/Chaussures       -1361.42\n",
       "Alimentation & Restau. Alimentation - Autres       -119.15\n",
       "                       Café                         -73.80\n",
       "                       Fast foods                  -491.42\n",
       "                       Restaurants                 -472.80\n",
       "                       Supermarché / Epicerie     -1300.49\n",
       "Auto & Transports      Auto & Transports - Autres   -29.55\n",
       "                       Billets d'avion              -97.98\n",
       "                       Billets de train           -1322.00\n",
       "                       Carburant                   -146.71\n",
       "                       Location de véhicule         -55.88\n",
       "                       Stationnement                 -5.75\n",
       "                       Transports en commun         -41.10\n",
       "Banque                 Epargne                     -150.00\n",
       "                       Frais bancaires               -8.00\n",
       "                       Remboursement emprunt      -7822.41\n",
       "Divers                 A catégoriser               -216.15\n",
       "                       Assurance                   -123.62\n",
       "                       Autres dépenses               -9.99\n",
       "                       Tabac                        -68.45\n",
       "Dépenses pro           Frais d'expéditions           -6.13\n",
       "                       Frais juridique             -110.63\n",
       "                       Notes de frais               -75.40\n",
       "                       Services en ligne            -41.23\n",
       "Esthétique & Soins     Esthétique                   -28.17\n",
       "Logement               Assurance habitation        -130.51\n",
       "                       Charges diverses           -1268.73\n",
       "                       Décoration                    -9.49\n",
       "                       Electricité                 -157.65\n",
       "Loisirs & Sorties      Bars / Clubs                -981.10\n",
       "                       Divertissements             -221.00\n",
       "                       Hôtels                       -24.00\n",
       "                       Loisirs & Sorties - Autres  -119.33\n",
       "                       Sortie au restaurant        -137.26\n",
       "                       Sorties culturelles         -179.45\n",
       "                       Sport                       -669.30\n",
       "                       Voyages / Vacances         -3016.47\n",
       "Retraits, Chq. et Vir. Retraits                    -970.00\n",
       "Santé                  Pharmacie                    -29.90\n",
       "                       Santé - Autres               -77.07"
      ]
     },
     "execution_count": 4,
     "metadata": {},
     "output_type": "execute_result"
    }
   ],
   "source": [
    "sum_df = df.groupby([\"Catégorie\", \"Sous-Catégorie\", \"month\"]).sum()\n",
    "sum_df = sum_df.groupby([\"Catégorie\", \"Sous-Catégorie\"]).sum()\n",
    "# sum_df = sum_df.sort_values(by=\"Montant\", ascending=True)\n",
    "sum_df"
   ]
  },
  {
   "cell_type": "code",
   "execution_count": 43,
   "metadata": {},
   "outputs": [],
   "source": [
    "sum_df = sum_df.swaplevel().reset_index()"
   ]
  },
  {
   "cell_type": "code",
   "execution_count": 44,
   "metadata": {},
   "outputs": [
    {
     "data": {
      "text/html": [
       "<div>\n",
       "<style scoped>\n",
       "    .dataframe tbody tr th:only-of-type {\n",
       "        vertical-align: middle;\n",
       "    }\n",
       "\n",
       "    .dataframe tbody tr th {\n",
       "        vertical-align: top;\n",
       "    }\n",
       "\n",
       "    .dataframe thead th {\n",
       "        text-align: right;\n",
       "    }\n",
       "</style>\n",
       "<table border=\"1\" class=\"dataframe\">\n",
       "  <thead>\n",
       "    <tr style=\"text-align: right;\">\n",
       "      <th></th>\n",
       "      <th>Sous-Catégorie</th>\n",
       "      <th>Catégorie</th>\n",
       "      <th>Montant</th>\n",
       "    </tr>\n",
       "  </thead>\n",
       "  <tbody>\n",
       "    <tr>\n",
       "      <th>0</th>\n",
       "      <td>Abonnements - Autres</td>\n",
       "      <td>Abonnements</td>\n",
       "      <td>-46.23</td>\n",
       "    </tr>\n",
       "    <tr>\n",
       "      <th>1</th>\n",
       "      <td>Internet</td>\n",
       "      <td>Abonnements</td>\n",
       "      <td>-244.93</td>\n",
       "    </tr>\n",
       "    <tr>\n",
       "      <th>2</th>\n",
       "      <td>Téléphonie mobile</td>\n",
       "      <td>Abonnements</td>\n",
       "      <td>-111.93</td>\n",
       "    </tr>\n",
       "    <tr>\n",
       "      <th>3</th>\n",
       "      <td>Achats &amp; Shopping - Autres</td>\n",
       "      <td>Achats &amp; Shopping</td>\n",
       "      <td>-452.95</td>\n",
       "    </tr>\n",
       "    <tr>\n",
       "      <th>4</th>\n",
       "      <td>Articles de sport</td>\n",
       "      <td>Achats &amp; Shopping</td>\n",
       "      <td>-12.00</td>\n",
       "    </tr>\n",
       "  </tbody>\n",
       "</table>\n",
       "</div>"
      ],
      "text/plain": [
       "               Sous-Catégorie          Catégorie  Montant\n",
       "0        Abonnements - Autres        Abonnements   -46.23\n",
       "1                    Internet        Abonnements  -244.93\n",
       "2           Téléphonie mobile        Abonnements  -111.93\n",
       "3  Achats & Shopping - Autres  Achats & Shopping  -452.95\n",
       "4           Articles de sport  Achats & Shopping   -12.00"
      ]
     },
     "execution_count": 44,
     "metadata": {},
     "output_type": "execute_result"
    }
   ],
   "source": [
    "sum_df = sum_df[sum_df[\"Catégorie\"] != \"Entrées d'argent\" ]\n",
    "sum_df = sum_df[sum_df[\"Sous-Catégorie\"] != \"Virements internes\"]\n",
    "\n",
    "sum_df.head()\n"
   ]
  },
  {
   "cell_type": "code",
   "execution_count": 45,
   "metadata": {},
   "outputs": [],
   "source": [
    "labels = [\"Origin\"] + list(sum_df[\"Catégorie\"].unique()) + list(sum_df[\"Sous-Catégorie\"].unique())\n",
    "mapped_labels = {k: v for v, k in enumerate(labels)}\n",
    "\n",
    "\n",
    "m_source, m_target, m_value = [], [], []\n",
    "\n",
    "for line in sum_df.iterrows():\n",
    "    m_source.append(0)\n",
    "    m_target.append(mapped_labels[line[1][\"Catégorie\"]])\n",
    "    m_value.append(abs(line[1][\"Montant\"]))\n",
    "    \n",
    "    m_source.append(mapped_labels[line[1][\"Catégorie\"]])\n",
    "    m_target.append(mapped_labels[line[1][\"Sous-Catégorie\"]])\n",
    "    m_value.append(-1 * line[1][\"Montant\"])\n",
    "    # break\n",
    "\n"
   ]
  },
  {
   "cell_type": "code",
   "execution_count": 46,
   "metadata": {},
   "outputs": [
    {
     "data": {
      "application/vnd.plotly.v1+json": {
       "config": {
        "plotlyServerURL": "https://plot.ly"
       },
       "data": [
        {
         "link": {
          "source": [
           0,
           1,
           0,
           1,
           0,
           1,
           0,
           2,
           0,
           2,
           0,
           2,
           0,
           2,
           0,
           2,
           0,
           3,
           0,
           3,
           0,
           3,
           0,
           3,
           0,
           3,
           0,
           4,
           0,
           4,
           0,
           4,
           0,
           4,
           0,
           4,
           0,
           4,
           0,
           4,
           0,
           5,
           0,
           5,
           0,
           5,
           0,
           6,
           0,
           6,
           0,
           6,
           0,
           6,
           0,
           7,
           0,
           7,
           0,
           7,
           0,
           7,
           0,
           8,
           0,
           9,
           0,
           9,
           0,
           9,
           0,
           9,
           0,
           10,
           0,
           10,
           0,
           10,
           0,
           10,
           0,
           10,
           0,
           10,
           0,
           10,
           0,
           10,
           0,
           11,
           0,
           12,
           0,
           12
          ],
          "target": [
           1,
           13,
           1,
           14,
           1,
           15,
           2,
           16,
           2,
           17,
           2,
           18,
           2,
           19,
           2,
           20,
           3,
           21,
           3,
           22,
           3,
           23,
           3,
           24,
           3,
           25,
           4,
           26,
           4,
           27,
           4,
           28,
           4,
           29,
           4,
           30,
           4,
           31,
           4,
           32,
           5,
           33,
           5,
           34,
           5,
           35,
           6,
           36,
           6,
           37,
           6,
           38,
           6,
           39,
           7,
           40,
           7,
           41,
           7,
           42,
           7,
           43,
           8,
           44,
           9,
           45,
           9,
           46,
           9,
           47,
           9,
           48,
           10,
           49,
           10,
           50,
           10,
           51,
           10,
           52,
           10,
           53,
           10,
           54,
           10,
           55,
           10,
           56,
           11,
           57,
           12,
           58,
           12,
           59
          ],
          "value": [
           46.23,
           46.23,
           244.93,
           244.93,
           111.93,
           111.93,
           452.95,
           452.95,
           12,
           12,
           251.45999999999998,
           251.45999999999998,
           33.98,
           33.98,
           1361.42,
           1361.42,
           119.15,
           119.15,
           73.8,
           73.8,
           491.42,
           491.42,
           472.8,
           472.8,
           1300.49,
           1300.49,
           29.55,
           29.55,
           97.98,
           97.98,
           1322,
           1322,
           146.70999999999998,
           146.70999999999998,
           55.88,
           55.88,
           5.75,
           5.75,
           41.099999999999994,
           41.099999999999994,
           150,
           150,
           8,
           8,
           7822.41,
           7822.41,
           216.15,
           216.15,
           123.62,
           123.62,
           9.99,
           9.99,
           68.45,
           68.45,
           6.13,
           6.13,
           110.63,
           110.63,
           75.4,
           75.4,
           41.23,
           41.23,
           28.17,
           28.17,
           130.51,
           130.51,
           1268.73,
           1268.73,
           9.49,
           9.49,
           157.65,
           157.65,
           981.1,
           981.1,
           221,
           221,
           24,
           24,
           119.33000000000001,
           119.33000000000001,
           137.26,
           137.26,
           179.45,
           179.45,
           669.3,
           669.3,
           3016.4700000000003,
           3016.4700000000003,
           970,
           970,
           29.9,
           29.9,
           77.07,
           77.07
          ]
         },
         "node": {
          "label": [
           "Origin",
           "Abonnements",
           "Achats & Shopping",
           "Alimentation & Restau.",
           "Auto & Transports",
           "Banque",
           "Divers",
           "Dépenses pro",
           "Esthétique & Soins",
           "Logement",
           "Loisirs & Sorties",
           "Retraits, Chq. et Vir.",
           "Santé",
           "Abonnements - Autres",
           "Internet",
           "Téléphonie mobile",
           "Achats & Shopping - Autres",
           "Articles de sport",
           "Cadeaux",
           "Films & DVDs",
           "Vêtements/Chaussures",
           "Alimentation - Autres",
           "Café",
           "Fast foods",
           "Restaurants",
           "Supermarché / Epicerie",
           "Auto & Transports - Autres",
           "Billets d'avion",
           "Billets de train",
           "Carburant",
           "Location de véhicule",
           "Stationnement",
           "Transports en commun",
           "Epargne",
           "Frais bancaires",
           "Remboursement emprunt",
           "A catégoriser",
           "Assurance",
           "Autres dépenses",
           "Tabac",
           "Frais d'expéditions",
           "Frais juridique",
           "Notes de frais",
           "Services en ligne",
           "Esthétique",
           "Assurance habitation",
           "Charges diverses",
           "Décoration",
           "Electricité",
           "Bars / Clubs",
           "Divertissements",
           "Hôtels",
           "Loisirs & Sorties - Autres",
           "Sortie au restaurant",
           "Sorties culturelles",
           "Sport",
           "Voyages / Vacances",
           "Retraits",
           "Pharmacie",
           "Santé - Autres"
          ],
          "line": {
           "color": "black",
           "width": 0.5
          },
          "pad": 15,
          "thickness": 50
         },
         "type": "sankey",
         "valueformat": ".0f",
         "valuesuffix": "€"
        }
       ],
       "layout": {
        "font": {
         "size": 15
        },
        "height": 900,
        "margin": {
         "b": 100,
         "l": 50,
         "pad": 4,
         "r": 50,
         "t": 100
        },
        "template": {
         "data": {
          "bar": [
           {
            "error_x": {
             "color": "#2a3f5f"
            },
            "error_y": {
             "color": "#2a3f5f"
            },
            "marker": {
             "line": {
              "color": "#E5ECF6",
              "width": 0.5
             },
             "pattern": {
              "fillmode": "overlay",
              "size": 10,
              "solidity": 0.2
             }
            },
            "type": "bar"
           }
          ],
          "barpolar": [
           {
            "marker": {
             "line": {
              "color": "#E5ECF6",
              "width": 0.5
             },
             "pattern": {
              "fillmode": "overlay",
              "size": 10,
              "solidity": 0.2
             }
            },
            "type": "barpolar"
           }
          ],
          "carpet": [
           {
            "aaxis": {
             "endlinecolor": "#2a3f5f",
             "gridcolor": "white",
             "linecolor": "white",
             "minorgridcolor": "white",
             "startlinecolor": "#2a3f5f"
            },
            "baxis": {
             "endlinecolor": "#2a3f5f",
             "gridcolor": "white",
             "linecolor": "white",
             "minorgridcolor": "white",
             "startlinecolor": "#2a3f5f"
            },
            "type": "carpet"
           }
          ],
          "choropleth": [
           {
            "colorbar": {
             "outlinewidth": 0,
             "ticks": ""
            },
            "type": "choropleth"
           }
          ],
          "contour": [
           {
            "colorbar": {
             "outlinewidth": 0,
             "ticks": ""
            },
            "colorscale": [
             [
              0,
              "#0d0887"
             ],
             [
              0.1111111111111111,
              "#46039f"
             ],
             [
              0.2222222222222222,
              "#7201a8"
             ],
             [
              0.3333333333333333,
              "#9c179e"
             ],
             [
              0.4444444444444444,
              "#bd3786"
             ],
             [
              0.5555555555555556,
              "#d8576b"
             ],
             [
              0.6666666666666666,
              "#ed7953"
             ],
             [
              0.7777777777777778,
              "#fb9f3a"
             ],
             [
              0.8888888888888888,
              "#fdca26"
             ],
             [
              1,
              "#f0f921"
             ]
            ],
            "type": "contour"
           }
          ],
          "contourcarpet": [
           {
            "colorbar": {
             "outlinewidth": 0,
             "ticks": ""
            },
            "type": "contourcarpet"
           }
          ],
          "heatmap": [
           {
            "colorbar": {
             "outlinewidth": 0,
             "ticks": ""
            },
            "colorscale": [
             [
              0,
              "#0d0887"
             ],
             [
              0.1111111111111111,
              "#46039f"
             ],
             [
              0.2222222222222222,
              "#7201a8"
             ],
             [
              0.3333333333333333,
              "#9c179e"
             ],
             [
              0.4444444444444444,
              "#bd3786"
             ],
             [
              0.5555555555555556,
              "#d8576b"
             ],
             [
              0.6666666666666666,
              "#ed7953"
             ],
             [
              0.7777777777777778,
              "#fb9f3a"
             ],
             [
              0.8888888888888888,
              "#fdca26"
             ],
             [
              1,
              "#f0f921"
             ]
            ],
            "type": "heatmap"
           }
          ],
          "heatmapgl": [
           {
            "colorbar": {
             "outlinewidth": 0,
             "ticks": ""
            },
            "colorscale": [
             [
              0,
              "#0d0887"
             ],
             [
              0.1111111111111111,
              "#46039f"
             ],
             [
              0.2222222222222222,
              "#7201a8"
             ],
             [
              0.3333333333333333,
              "#9c179e"
             ],
             [
              0.4444444444444444,
              "#bd3786"
             ],
             [
              0.5555555555555556,
              "#d8576b"
             ],
             [
              0.6666666666666666,
              "#ed7953"
             ],
             [
              0.7777777777777778,
              "#fb9f3a"
             ],
             [
              0.8888888888888888,
              "#fdca26"
             ],
             [
              1,
              "#f0f921"
             ]
            ],
            "type": "heatmapgl"
           }
          ],
          "histogram": [
           {
            "marker": {
             "pattern": {
              "fillmode": "overlay",
              "size": 10,
              "solidity": 0.2
             }
            },
            "type": "histogram"
           }
          ],
          "histogram2d": [
           {
            "colorbar": {
             "outlinewidth": 0,
             "ticks": ""
            },
            "colorscale": [
             [
              0,
              "#0d0887"
             ],
             [
              0.1111111111111111,
              "#46039f"
             ],
             [
              0.2222222222222222,
              "#7201a8"
             ],
             [
              0.3333333333333333,
              "#9c179e"
             ],
             [
              0.4444444444444444,
              "#bd3786"
             ],
             [
              0.5555555555555556,
              "#d8576b"
             ],
             [
              0.6666666666666666,
              "#ed7953"
             ],
             [
              0.7777777777777778,
              "#fb9f3a"
             ],
             [
              0.8888888888888888,
              "#fdca26"
             ],
             [
              1,
              "#f0f921"
             ]
            ],
            "type": "histogram2d"
           }
          ],
          "histogram2dcontour": [
           {
            "colorbar": {
             "outlinewidth": 0,
             "ticks": ""
            },
            "colorscale": [
             [
              0,
              "#0d0887"
             ],
             [
              0.1111111111111111,
              "#46039f"
             ],
             [
              0.2222222222222222,
              "#7201a8"
             ],
             [
              0.3333333333333333,
              "#9c179e"
             ],
             [
              0.4444444444444444,
              "#bd3786"
             ],
             [
              0.5555555555555556,
              "#d8576b"
             ],
             [
              0.6666666666666666,
              "#ed7953"
             ],
             [
              0.7777777777777778,
              "#fb9f3a"
             ],
             [
              0.8888888888888888,
              "#fdca26"
             ],
             [
              1,
              "#f0f921"
             ]
            ],
            "type": "histogram2dcontour"
           }
          ],
          "mesh3d": [
           {
            "colorbar": {
             "outlinewidth": 0,
             "ticks": ""
            },
            "type": "mesh3d"
           }
          ],
          "parcoords": [
           {
            "line": {
             "colorbar": {
              "outlinewidth": 0,
              "ticks": ""
             }
            },
            "type": "parcoords"
           }
          ],
          "pie": [
           {
            "automargin": true,
            "type": "pie"
           }
          ],
          "scatter": [
           {
            "fillpattern": {
             "fillmode": "overlay",
             "size": 10,
             "solidity": 0.2
            },
            "type": "scatter"
           }
          ],
          "scatter3d": [
           {
            "line": {
             "colorbar": {
              "outlinewidth": 0,
              "ticks": ""
             }
            },
            "marker": {
             "colorbar": {
              "outlinewidth": 0,
              "ticks": ""
             }
            },
            "type": "scatter3d"
           }
          ],
          "scattercarpet": [
           {
            "marker": {
             "colorbar": {
              "outlinewidth": 0,
              "ticks": ""
             }
            },
            "type": "scattercarpet"
           }
          ],
          "scattergeo": [
           {
            "marker": {
             "colorbar": {
              "outlinewidth": 0,
              "ticks": ""
             }
            },
            "type": "scattergeo"
           }
          ],
          "scattergl": [
           {
            "marker": {
             "colorbar": {
              "outlinewidth": 0,
              "ticks": ""
             }
            },
            "type": "scattergl"
           }
          ],
          "scattermapbox": [
           {
            "marker": {
             "colorbar": {
              "outlinewidth": 0,
              "ticks": ""
             }
            },
            "type": "scattermapbox"
           }
          ],
          "scatterpolar": [
           {
            "marker": {
             "colorbar": {
              "outlinewidth": 0,
              "ticks": ""
             }
            },
            "type": "scatterpolar"
           }
          ],
          "scatterpolargl": [
           {
            "marker": {
             "colorbar": {
              "outlinewidth": 0,
              "ticks": ""
             }
            },
            "type": "scatterpolargl"
           }
          ],
          "scatterternary": [
           {
            "marker": {
             "colorbar": {
              "outlinewidth": 0,
              "ticks": ""
             }
            },
            "type": "scatterternary"
           }
          ],
          "surface": [
           {
            "colorbar": {
             "outlinewidth": 0,
             "ticks": ""
            },
            "colorscale": [
             [
              0,
              "#0d0887"
             ],
             [
              0.1111111111111111,
              "#46039f"
             ],
             [
              0.2222222222222222,
              "#7201a8"
             ],
             [
              0.3333333333333333,
              "#9c179e"
             ],
             [
              0.4444444444444444,
              "#bd3786"
             ],
             [
              0.5555555555555556,
              "#d8576b"
             ],
             [
              0.6666666666666666,
              "#ed7953"
             ],
             [
              0.7777777777777778,
              "#fb9f3a"
             ],
             [
              0.8888888888888888,
              "#fdca26"
             ],
             [
              1,
              "#f0f921"
             ]
            ],
            "type": "surface"
           }
          ],
          "table": [
           {
            "cells": {
             "fill": {
              "color": "#EBF0F8"
             },
             "line": {
              "color": "white"
             }
            },
            "header": {
             "fill": {
              "color": "#C8D4E3"
             },
             "line": {
              "color": "white"
             }
            },
            "type": "table"
           }
          ]
         },
         "layout": {
          "annotationdefaults": {
           "arrowcolor": "#2a3f5f",
           "arrowhead": 0,
           "arrowwidth": 1
          },
          "autotypenumbers": "strict",
          "coloraxis": {
           "colorbar": {
            "outlinewidth": 0,
            "ticks": ""
           }
          },
          "colorscale": {
           "diverging": [
            [
             0,
             "#8e0152"
            ],
            [
             0.1,
             "#c51b7d"
            ],
            [
             0.2,
             "#de77ae"
            ],
            [
             0.3,
             "#f1b6da"
            ],
            [
             0.4,
             "#fde0ef"
            ],
            [
             0.5,
             "#f7f7f7"
            ],
            [
             0.6,
             "#e6f5d0"
            ],
            [
             0.7,
             "#b8e186"
            ],
            [
             0.8,
             "#7fbc41"
            ],
            [
             0.9,
             "#4d9221"
            ],
            [
             1,
             "#276419"
            ]
           ],
           "sequential": [
            [
             0,
             "#0d0887"
            ],
            [
             0.1111111111111111,
             "#46039f"
            ],
            [
             0.2222222222222222,
             "#7201a8"
            ],
            [
             0.3333333333333333,
             "#9c179e"
            ],
            [
             0.4444444444444444,
             "#bd3786"
            ],
            [
             0.5555555555555556,
             "#d8576b"
            ],
            [
             0.6666666666666666,
             "#ed7953"
            ],
            [
             0.7777777777777778,
             "#fb9f3a"
            ],
            [
             0.8888888888888888,
             "#fdca26"
            ],
            [
             1,
             "#f0f921"
            ]
           ],
           "sequentialminus": [
            [
             0,
             "#0d0887"
            ],
            [
             0.1111111111111111,
             "#46039f"
            ],
            [
             0.2222222222222222,
             "#7201a8"
            ],
            [
             0.3333333333333333,
             "#9c179e"
            ],
            [
             0.4444444444444444,
             "#bd3786"
            ],
            [
             0.5555555555555556,
             "#d8576b"
            ],
            [
             0.6666666666666666,
             "#ed7953"
            ],
            [
             0.7777777777777778,
             "#fb9f3a"
            ],
            [
             0.8888888888888888,
             "#fdca26"
            ],
            [
             1,
             "#f0f921"
            ]
           ]
          },
          "colorway": [
           "#636efa",
           "#EF553B",
           "#00cc96",
           "#ab63fa",
           "#FFA15A",
           "#19d3f3",
           "#FF6692",
           "#B6E880",
           "#FF97FF",
           "#FECB52"
          ],
          "font": {
           "color": "#2a3f5f"
          },
          "geo": {
           "bgcolor": "white",
           "lakecolor": "white",
           "landcolor": "#E5ECF6",
           "showlakes": true,
           "showland": true,
           "subunitcolor": "white"
          },
          "hoverlabel": {
           "align": "left"
          },
          "hovermode": "closest",
          "mapbox": {
           "style": "light"
          },
          "paper_bgcolor": "white",
          "plot_bgcolor": "#E5ECF6",
          "polar": {
           "angularaxis": {
            "gridcolor": "white",
            "linecolor": "white",
            "ticks": ""
           },
           "bgcolor": "#E5ECF6",
           "radialaxis": {
            "gridcolor": "white",
            "linecolor": "white",
            "ticks": ""
           }
          },
          "scene": {
           "xaxis": {
            "backgroundcolor": "#E5ECF6",
            "gridcolor": "white",
            "gridwidth": 2,
            "linecolor": "white",
            "showbackground": true,
            "ticks": "",
            "zerolinecolor": "white"
           },
           "yaxis": {
            "backgroundcolor": "#E5ECF6",
            "gridcolor": "white",
            "gridwidth": 2,
            "linecolor": "white",
            "showbackground": true,
            "ticks": "",
            "zerolinecolor": "white"
           },
           "zaxis": {
            "backgroundcolor": "#E5ECF6",
            "gridcolor": "white",
            "gridwidth": 2,
            "linecolor": "white",
            "showbackground": true,
            "ticks": "",
            "zerolinecolor": "white"
           }
          },
          "shapedefaults": {
           "line": {
            "color": "#2a3f5f"
           }
          },
          "ternary": {
           "aaxis": {
            "gridcolor": "white",
            "linecolor": "white",
            "ticks": ""
           },
           "baxis": {
            "gridcolor": "white",
            "linecolor": "white",
            "ticks": ""
           },
           "bgcolor": "#E5ECF6",
           "caxis": {
            "gridcolor": "white",
            "linecolor": "white",
            "ticks": ""
           }
          },
          "title": {
           "x": 0.05
          },
          "xaxis": {
           "automargin": true,
           "gridcolor": "white",
           "linecolor": "white",
           "ticks": "",
           "title": {
            "standoff": 15
           },
           "zerolinecolor": "white",
           "zerolinewidth": 2
          },
          "yaxis": {
           "automargin": true,
           "gridcolor": "white",
           "linecolor": "white",
           "ticks": "",
           "title": {
            "standoff": 15
           },
           "zerolinecolor": "white",
           "zerolinewidth": 2
          }
         }
        },
        "title": {
         "text": "Basic Sankey Diagram"
        },
        "width": 1500
       }
      }
     },
     "metadata": {},
     "output_type": "display_data"
    }
   ],
   "source": [
    "fig = go.Figure(\n",
    "  data=[go.Sankey(\n",
    "    valueformat = \".0f\",\n",
    "    valuesuffix = \"€\",\n",
    "\n",
    "    node = dict(\n",
    "      pad = 15,\n",
    "      thickness = 50,\n",
    "      line = dict(color = \"black\", width = 0.5),\n",
    "      label = labels,\n",
    "      # color = \"blue\"\n",
    "    ),\n",
    "    link = dict(\n",
    "      source = m_source,\n",
    "      target = m_target,\n",
    "      value = m_value\n",
    "  ))])\n",
    "\n",
    "fig.update_layout(\n",
    "  title_text=\"Basic Sankey Diagram\", \n",
    "  # autosize=False,\n",
    "  font_size=15,\n",
    "  width=1500,\n",
    "  height=900,\n",
    "  margin=dict(\n",
    "        l=50,\n",
    "        r=50,\n",
    "        b=100,\n",
    "        t=100,\n",
    "        pad=4\n",
    "    )  \n",
    "  )\n",
    "fig.show()"
   ]
  },
  {
   "cell_type": "markdown",
   "metadata": {},
   "source": [
    "# Filter over one month"
   ]
  },
  {
   "cell_type": "code",
   "execution_count": 47,
   "metadata": {},
   "outputs": [],
   "source": [
    "# df = pd.read_csv('data.csv', sep=';')\n",
    "# df['Date'] = pd.to_datetime(df['Date'], format=\"%d/%m/%Y\")\n",
    "# df[\"month\"] = df[\"Date\"].dt.month\n",
    "# df.drop([\"Date\", \"Note\", \"Pointée\", \"Compte\"], axis=1, inplace=True)\n",
    "# df.head()"
   ]
  },
  {
   "cell_type": "code",
   "execution_count": 48,
   "metadata": {},
   "outputs": [
    {
     "data": {
      "text/html": [
       "<div>\n",
       "<style scoped>\n",
       "    .dataframe tbody tr th:only-of-type {\n",
       "        vertical-align: middle;\n",
       "    }\n",
       "\n",
       "    .dataframe tbody tr th {\n",
       "        vertical-align: top;\n",
       "    }\n",
       "\n",
       "    .dataframe thead th {\n",
       "        text-align: right;\n",
       "    }\n",
       "</style>\n",
       "<table border=\"1\" class=\"dataframe\">\n",
       "  <thead>\n",
       "    <tr style=\"text-align: right;\">\n",
       "      <th></th>\n",
       "      <th>Montant</th>\n",
       "      <th>Catégorie</th>\n",
       "      <th>Sous-Catégorie</th>\n",
       "    </tr>\n",
       "  </thead>\n",
       "  <tbody>\n",
       "    <tr>\n",
       "      <th>39</th>\n",
       "      <td>15.00</td>\n",
       "      <td>Loisirs &amp; Sorties</td>\n",
       "      <td>Divertissements</td>\n",
       "    </tr>\n",
       "    <tr>\n",
       "      <th>41</th>\n",
       "      <td>9.99</td>\n",
       "      <td>Divers</td>\n",
       "      <td>Autres dépenses</td>\n",
       "    </tr>\n",
       "    <tr>\n",
       "      <th>44</th>\n",
       "      <td>3.45</td>\n",
       "      <td>Achats &amp; Shopping</td>\n",
       "      <td>Cadeaux</td>\n",
       "    </tr>\n",
       "    <tr>\n",
       "      <th>45</th>\n",
       "      <td>12.35</td>\n",
       "      <td>Auto &amp; Transports</td>\n",
       "      <td>Auto &amp; Transports - Autres</td>\n",
       "    </tr>\n",
       "    <tr>\n",
       "      <th>159</th>\n",
       "      <td>75.00</td>\n",
       "      <td>Banque</td>\n",
       "      <td>Epargne</td>\n",
       "    </tr>\n",
       "  </tbody>\n",
       "</table>\n",
       "</div>"
      ],
      "text/plain": [
       "     Montant          Catégorie              Sous-Catégorie\n",
       "39     15.00  Loisirs & Sorties             Divertissements\n",
       "41      9.99             Divers             Autres dépenses\n",
       "44      3.45  Achats & Shopping                     Cadeaux\n",
       "45     12.35  Auto & Transports  Auto & Transports - Autres\n",
       "159    75.00             Banque                     Epargne"
      ]
     },
     "execution_count": 48,
     "metadata": {},
     "output_type": "execute_result"
    }
   ],
   "source": [
    "filtered_df = df[df[\"month\"] == 1]\n",
    "filtered_df = filtered_df.drop([\"month\"], axis=1)\n",
    "filtered_df[\"Montant\"] = filtered_df[\"Montant\"].apply(lambda x: abs(x))\n",
    "filtered_df.head()"
   ]
  },
  {
   "cell_type": "code",
   "execution_count": 49,
   "metadata": {},
   "outputs": [],
   "source": [
    "# filtered_df[filtered_df[\"Catégorie\"] == \"Banque\"]\n",
    "# filtered_df[to_plot[\"Sous-Catégorie\"] == \"Débit mensuel carte\"]\n"
   ]
  },
  {
   "cell_type": "markdown",
   "metadata": {},
   "source": [
    "### Pie chart"
   ]
  },
  {
   "cell_type": "code",
   "execution_count": 50,
   "metadata": {},
   "outputs": [
    {
     "data": {
      "text/html": [
       "<div>\n",
       "<style scoped>\n",
       "    .dataframe tbody tr th:only-of-type {\n",
       "        vertical-align: middle;\n",
       "    }\n",
       "\n",
       "    .dataframe tbody tr th {\n",
       "        vertical-align: top;\n",
       "    }\n",
       "\n",
       "    .dataframe thead th {\n",
       "        text-align: right;\n",
       "    }\n",
       "</style>\n",
       "<table border=\"1\" class=\"dataframe\">\n",
       "  <thead>\n",
       "    <tr style=\"text-align: right;\">\n",
       "      <th></th>\n",
       "      <th>Montant</th>\n",
       "    </tr>\n",
       "    <tr>\n",
       "      <th>Catégorie</th>\n",
       "      <th></th>\n",
       "    </tr>\n",
       "  </thead>\n",
       "  <tbody>\n",
       "    <tr>\n",
       "      <th>Banque</th>\n",
       "      <td>2051.63</td>\n",
       "    </tr>\n",
       "    <tr>\n",
       "      <th>Loisirs &amp; Sorties</th>\n",
       "      <td>646.27</td>\n",
       "    </tr>\n",
       "    <tr>\n",
       "      <th>Logement</th>\n",
       "      <td>430.44</td>\n",
       "    </tr>\n",
       "    <tr>\n",
       "      <th>Alimentation &amp; Restau.</th>\n",
       "      <td>352.88</td>\n",
       "    </tr>\n",
       "    <tr>\n",
       "      <th>Achats &amp; Shopping</th>\n",
       "      <td>294.77</td>\n",
       "    </tr>\n",
       "    <tr>\n",
       "      <th>Santé</th>\n",
       "      <td>77.07</td>\n",
       "    </tr>\n",
       "    <tr>\n",
       "      <th>Auto &amp; Transports</th>\n",
       "      <td>52.62</td>\n",
       "    </tr>\n",
       "    <tr>\n",
       "      <th>Abonnements</th>\n",
       "      <td>50.98</td>\n",
       "    </tr>\n",
       "    <tr>\n",
       "      <th>Divers</th>\n",
       "      <td>27.65</td>\n",
       "    </tr>\n",
       "  </tbody>\n",
       "</table>\n",
       "</div>"
      ],
      "text/plain": [
       "                        Montant\n",
       "Catégorie                      \n",
       "Banque                  2051.63\n",
       "Loisirs & Sorties        646.27\n",
       "Logement                 430.44\n",
       "Alimentation & Restau.   352.88\n",
       "Achats & Shopping        294.77\n",
       "Santé                     77.07\n",
       "Auto & Transports         52.62\n",
       "Abonnements               50.98\n",
       "Divers                    27.65"
      ]
     },
     "execution_count": 50,
     "metadata": {},
     "output_type": "execute_result"
    },
    {
     "data": {
      "image/png": "[encoded data removed]",
      "text/plain": [
       "<Figure size 800x800 with 1 Axes>"
      ]
     },
     "metadata": {},
     "output_type": "display_data"
    }
   ],
   "source": [
    "df_cat = filtered_df.drop([\"Sous-Catégorie\"], axis=1)\n",
    "df_cat = df_cat.groupby([\"Catégorie\"]).sum()\n",
    "df_cat = df_cat.sort_values(by=\"Montant\", ascending=False)\n",
    "\n",
    "df_cat.plot.pie(\n",
    "    y=\"Montant\",\n",
    "    figsize=(8, 8),\n",
    ")\n",
    "\n",
    "df_cat"
   ]
  },
  {
   "cell_type": "markdown",
   "metadata": {},
   "source": [
    "### Table on all sub category"
   ]
  },
  {
   "cell_type": "code",
   "execution_count": 51,
   "metadata": {},
   "outputs": [
    {
     "data": {
      "text/html": [
       "<div>\n",
       "<style scoped>\n",
       "    .dataframe tbody tr th:only-of-type {\n",
       "        vertical-align: middle;\n",
       "    }\n",
       "\n",
       "    .dataframe tbody tr th {\n",
       "        vertical-align: top;\n",
       "    }\n",
       "\n",
       "    .dataframe thead th {\n",
       "        text-align: right;\n",
       "    }\n",
       "</style>\n",
       "<table border=\"1\" class=\"dataframe\">\n",
       "  <thead>\n",
       "    <tr style=\"text-align: right;\">\n",
       "      <th></th>\n",
       "      <th></th>\n",
       "      <th>Montant</th>\n",
       "    </tr>\n",
       "    <tr>\n",
       "      <th>Catégorie</th>\n",
       "      <th>Sous-Catégorie</th>\n",
       "      <th></th>\n",
       "    </tr>\n",
       "  </thead>\n",
       "  <tbody>\n",
       "    <tr>\n",
       "      <th rowspan=\"2\" valign=\"top\">Abonnements</th>\n",
       "      <th>Internet</th>\n",
       "      <td>34.99</td>\n",
       "    </tr>\n",
       "    <tr>\n",
       "      <th>Téléphonie mobile</th>\n",
       "      <td>15.99</td>\n",
       "    </tr>\n",
       "    <tr>\n",
       "      <th rowspan=\"2\" valign=\"top\">Achats &amp; Shopping</th>\n",
       "      <th>Achats &amp; Shopping - Autres</th>\n",
       "      <td>203.36</td>\n",
       "    </tr>\n",
       "    <tr>\n",
       "      <th>Cadeaux</th>\n",
       "      <td>91.41</td>\n",
       "    </tr>\n",
       "    <tr>\n",
       "      <th rowspan=\"5\" valign=\"top\">Alimentation &amp; Restau.</th>\n",
       "      <th>Alimentation - Autres</th>\n",
       "      <td>7.50</td>\n",
       "    </tr>\n",
       "    <tr>\n",
       "      <th>Café</th>\n",
       "      <td>6.60</td>\n",
       "    </tr>\n",
       "    <tr>\n",
       "      <th>Fast foods</th>\n",
       "      <td>88.40</td>\n",
       "    </tr>\n",
       "    <tr>\n",
       "      <th>Restaurants</th>\n",
       "      <td>55.68</td>\n",
       "    </tr>\n",
       "    <tr>\n",
       "      <th>Supermarché / Epicerie</th>\n",
       "      <td>194.70</td>\n",
       "    </tr>\n",
       "    <tr>\n",
       "      <th rowspan=\"2\" valign=\"top\">Auto &amp; Transports</th>\n",
       "      <th>Auto &amp; Transports - Autres</th>\n",
       "      <td>12.35</td>\n",
       "    </tr>\n",
       "    <tr>\n",
       "      <th>Carburant</th>\n",
       "      <td>40.27</td>\n",
       "    </tr>\n",
       "    <tr>\n",
       "      <th rowspan=\"3\" valign=\"top\">Banque</th>\n",
       "      <th>Epargne</th>\n",
       "      <td>75.00</td>\n",
       "    </tr>\n",
       "    <tr>\n",
       "      <th>Frais bancaires</th>\n",
       "      <td>2.00</td>\n",
       "    </tr>\n",
       "    <tr>\n",
       "      <th>Remboursement emprunt</th>\n",
       "      <td>1974.63</td>\n",
       "    </tr>\n",
       "    <tr>\n",
       "      <th rowspan=\"2\" valign=\"top\">Divers</th>\n",
       "      <th>Assurance</th>\n",
       "      <td>17.66</td>\n",
       "    </tr>\n",
       "    <tr>\n",
       "      <th>Autres dépenses</th>\n",
       "      <td>9.99</td>\n",
       "    </tr>\n",
       "    <tr>\n",
       "      <th rowspan=\"3\" valign=\"top\">Logement</th>\n",
       "      <th>Assurance habitation</th>\n",
       "      <td>16.50</td>\n",
       "    </tr>\n",
       "    <tr>\n",
       "      <th>Charges diverses</th>\n",
       "      <td>376.98</td>\n",
       "    </tr>\n",
       "    <tr>\n",
       "      <th>Electricité</th>\n",
       "      <td>36.96</td>\n",
       "    </tr>\n",
       "    <tr>\n",
       "      <th rowspan=\"5\" valign=\"top\">Loisirs &amp; Sorties</th>\n",
       "      <th>Bars / Clubs</th>\n",
       "      <td>59.50</td>\n",
       "    </tr>\n",
       "    <tr>\n",
       "      <th>Divertissements</th>\n",
       "      <td>15.00</td>\n",
       "    </tr>\n",
       "    <tr>\n",
       "      <th>Sortie au restaurant</th>\n",
       "      <td>75.57</td>\n",
       "    </tr>\n",
       "    <tr>\n",
       "      <th>Sport</th>\n",
       "      <td>479.90</td>\n",
       "    </tr>\n",
       "    <tr>\n",
       "      <th>Voyages / Vacances</th>\n",
       "      <td>16.30</td>\n",
       "    </tr>\n",
       "    <tr>\n",
       "      <th>Santé</th>\n",
       "      <th>Santé - Autres</th>\n",
       "      <td>77.07</td>\n",
       "    </tr>\n",
       "  </tbody>\n",
       "</table>\n",
       "</div>"
      ],
      "text/plain": [
       "                                                   Montant\n",
       "Catégorie              Sous-Catégorie                     \n",
       "Abonnements            Internet                      34.99\n",
       "                       Téléphonie mobile             15.99\n",
       "Achats & Shopping      Achats & Shopping - Autres   203.36\n",
       "                       Cadeaux                       91.41\n",
       "Alimentation & Restau. Alimentation - Autres          7.50\n",
       "                       Café                           6.60\n",
       "                       Fast foods                    88.40\n",
       "                       Restaurants                   55.68\n",
       "                       Supermarché / Epicerie       194.70\n",
       "Auto & Transports      Auto & Transports - Autres    12.35\n",
       "                       Carburant                     40.27\n",
       "Banque                 Epargne                       75.00\n",
       "                       Frais bancaires                2.00\n",
       "                       Remboursement emprunt       1974.63\n",
       "Divers                 Assurance                     17.66\n",
       "                       Autres dépenses                9.99\n",
       "Logement               Assurance habitation          16.50\n",
       "                       Charges diverses             376.98\n",
       "                       Electricité                   36.96\n",
       "Loisirs & Sorties      Bars / Clubs                  59.50\n",
       "                       Divertissements               15.00\n",
       "                       Sortie au restaurant          75.57\n",
       "                       Sport                        479.90\n",
       "                       Voyages / Vacances            16.30\n",
       "Santé                  Santé - Autres                77.07"
      ]
     },
     "execution_count": 51,
     "metadata": {},
     "output_type": "execute_result"
    }
   ],
   "source": [
    "grouped_df = filtered_df.groupby([\"Catégorie\", \"Sous-Catégorie\"]).sum()\n",
    "grouped_df"
   ]
  },
  {
   "cell_type": "code",
   "execution_count": 52,
   "metadata": {},
   "outputs": [
    {
     "data": {
      "text/html": [
       "<div>\n",
       "<style scoped>\n",
       "    .dataframe tbody tr th:only-of-type {\n",
       "        vertical-align: middle;\n",
       "    }\n",
       "\n",
       "    .dataframe tbody tr th {\n",
       "        vertical-align: top;\n",
       "    }\n",
       "\n",
       "    .dataframe thead th {\n",
       "        text-align: right;\n",
       "    }\n",
       "</style>\n",
       "<table border=\"1\" class=\"dataframe\">\n",
       "  <thead>\n",
       "    <tr style=\"text-align: right;\">\n",
       "      <th></th>\n",
       "      <th>Montant</th>\n",
       "      <th>Catégorie</th>\n",
       "      <th>Sous-Catégorie</th>\n",
       "    </tr>\n",
       "  </thead>\n",
       "  <tbody>\n",
       "    <tr>\n",
       "      <th>39</th>\n",
       "      <td>15.00</td>\n",
       "      <td>Loisirs &amp; Sorties</td>\n",
       "      <td>Divertissements</td>\n",
       "    </tr>\n",
       "    <tr>\n",
       "      <th>41</th>\n",
       "      <td>9.99</td>\n",
       "      <td>Divers</td>\n",
       "      <td>Autres dépenses</td>\n",
       "    </tr>\n",
       "    <tr>\n",
       "      <th>44</th>\n",
       "      <td>3.45</td>\n",
       "      <td>Achats &amp; Shopping</td>\n",
       "      <td>Cadeaux</td>\n",
       "    </tr>\n",
       "    <tr>\n",
       "      <th>45</th>\n",
       "      <td>12.35</td>\n",
       "      <td>Auto &amp; Transports</td>\n",
       "      <td>Auto &amp; Transports - Autres</td>\n",
       "    </tr>\n",
       "    <tr>\n",
       "      <th>159</th>\n",
       "      <td>75.00</td>\n",
       "      <td>Banque</td>\n",
       "      <td>Epargne</td>\n",
       "    </tr>\n",
       "  </tbody>\n",
       "</table>\n",
       "</div>"
      ],
      "text/plain": [
       "     Montant          Catégorie              Sous-Catégorie\n",
       "39     15.00  Loisirs & Sorties             Divertissements\n",
       "41      9.99             Divers             Autres dépenses\n",
       "44      3.45  Achats & Shopping                     Cadeaux\n",
       "45     12.35  Auto & Transports  Auto & Transports - Autres\n",
       "159    75.00             Banque                     Epargne"
      ]
     },
     "execution_count": 52,
     "metadata": {},
     "output_type": "execute_result"
    }
   ],
   "source": [
    "filtered_df.head()"
   ]
  },
  {
   "cell_type": "markdown",
   "metadata": {},
   "source": [
    "## Plot sankey diagram for one month"
   ]
  },
  {
   "cell_type": "code",
   "execution_count": 61,
   "metadata": {},
   "outputs": [
    {
     "data": {
      "text/html": [
       "<div>\n",
       "<style scoped>\n",
       "    .dataframe tbody tr th:only-of-type {\n",
       "        vertical-align: middle;\n",
       "    }\n",
       "\n",
       "    .dataframe tbody tr th {\n",
       "        vertical-align: top;\n",
       "    }\n",
       "\n",
       "    .dataframe thead th {\n",
       "        text-align: right;\n",
       "    }\n",
       "</style>\n",
       "<table border=\"1\" class=\"dataframe\">\n",
       "  <thead>\n",
       "    <tr style=\"text-align: right;\">\n",
       "      <th></th>\n",
       "      <th>Sous-Catégorie</th>\n",
       "      <th>Catégorie</th>\n",
       "      <th>Montant</th>\n",
       "    </tr>\n",
       "  </thead>\n",
       "  <tbody>\n",
       "    <tr>\n",
       "      <th>0</th>\n",
       "      <td>Internet</td>\n",
       "      <td>Abonnements</td>\n",
       "      <td>34.99</td>\n",
       "    </tr>\n",
       "    <tr>\n",
       "      <th>1</th>\n",
       "      <td>Téléphonie mobile</td>\n",
       "      <td>Abonnements</td>\n",
       "      <td>15.99</td>\n",
       "    </tr>\n",
       "    <tr>\n",
       "      <th>2</th>\n",
       "      <td>Achats &amp; Shopping - Autres</td>\n",
       "      <td>Achats &amp; Shopping</td>\n",
       "      <td>203.36</td>\n",
       "    </tr>\n",
       "    <tr>\n",
       "      <th>3</th>\n",
       "      <td>Cadeaux</td>\n",
       "      <td>Achats &amp; Shopping</td>\n",
       "      <td>91.41</td>\n",
       "    </tr>\n",
       "    <tr>\n",
       "      <th>4</th>\n",
       "      <td>Alimentation - Autres</td>\n",
       "      <td>Alimentation &amp; Restau.</td>\n",
       "      <td>7.50</td>\n",
       "    </tr>\n",
       "    <tr>\n",
       "      <th>5</th>\n",
       "      <td>Café</td>\n",
       "      <td>Alimentation &amp; Restau.</td>\n",
       "      <td>6.60</td>\n",
       "    </tr>\n",
       "    <tr>\n",
       "      <th>6</th>\n",
       "      <td>Fast foods</td>\n",
       "      <td>Alimentation &amp; Restau.</td>\n",
       "      <td>88.40</td>\n",
       "    </tr>\n",
       "    <tr>\n",
       "      <th>7</th>\n",
       "      <td>Restaurants</td>\n",
       "      <td>Alimentation &amp; Restau.</td>\n",
       "      <td>55.68</td>\n",
       "    </tr>\n",
       "    <tr>\n",
       "      <th>8</th>\n",
       "      <td>Supermarché / Epicerie</td>\n",
       "      <td>Alimentation &amp; Restau.</td>\n",
       "      <td>194.70</td>\n",
       "    </tr>\n",
       "    <tr>\n",
       "      <th>9</th>\n",
       "      <td>Auto &amp; Transports - Autres</td>\n",
       "      <td>Auto &amp; Transports</td>\n",
       "      <td>12.35</td>\n",
       "    </tr>\n",
       "    <tr>\n",
       "      <th>10</th>\n",
       "      <td>Carburant</td>\n",
       "      <td>Auto &amp; Transports</td>\n",
       "      <td>40.27</td>\n",
       "    </tr>\n",
       "    <tr>\n",
       "      <th>11</th>\n",
       "      <td>Epargne</td>\n",
       "      <td>Banque</td>\n",
       "      <td>75.00</td>\n",
       "    </tr>\n",
       "    <tr>\n",
       "      <th>12</th>\n",
       "      <td>Frais bancaires</td>\n",
       "      <td>Banque</td>\n",
       "      <td>2.00</td>\n",
       "    </tr>\n",
       "    <tr>\n",
       "      <th>13</th>\n",
       "      <td>Remboursement emprunt</td>\n",
       "      <td>Banque</td>\n",
       "      <td>1974.63</td>\n",
       "    </tr>\n",
       "    <tr>\n",
       "      <th>14</th>\n",
       "      <td>Assurance</td>\n",
       "      <td>Divers</td>\n",
       "      <td>17.66</td>\n",
       "    </tr>\n",
       "    <tr>\n",
       "      <th>15</th>\n",
       "      <td>Autres dépenses</td>\n",
       "      <td>Divers</td>\n",
       "      <td>9.99</td>\n",
       "    </tr>\n",
       "    <tr>\n",
       "      <th>16</th>\n",
       "      <td>Assurance habitation</td>\n",
       "      <td>Logement</td>\n",
       "      <td>16.50</td>\n",
       "    </tr>\n",
       "    <tr>\n",
       "      <th>17</th>\n",
       "      <td>Charges diverses</td>\n",
       "      <td>Logement</td>\n",
       "      <td>376.98</td>\n",
       "    </tr>\n",
       "    <tr>\n",
       "      <th>18</th>\n",
       "      <td>Electricité</td>\n",
       "      <td>Logement</td>\n",
       "      <td>36.96</td>\n",
       "    </tr>\n",
       "    <tr>\n",
       "      <th>19</th>\n",
       "      <td>Bars / Clubs</td>\n",
       "      <td>Loisirs &amp; Sorties</td>\n",
       "      <td>59.50</td>\n",
       "    </tr>\n",
       "    <tr>\n",
       "      <th>20</th>\n",
       "      <td>Divertissements</td>\n",
       "      <td>Loisirs &amp; Sorties</td>\n",
       "      <td>15.00</td>\n",
       "    </tr>\n",
       "    <tr>\n",
       "      <th>21</th>\n",
       "      <td>Sortie au restaurant</td>\n",
       "      <td>Loisirs &amp; Sorties</td>\n",
       "      <td>75.57</td>\n",
       "    </tr>\n",
       "    <tr>\n",
       "      <th>22</th>\n",
       "      <td>Sport</td>\n",
       "      <td>Loisirs &amp; Sorties</td>\n",
       "      <td>479.90</td>\n",
       "    </tr>\n",
       "    <tr>\n",
       "      <th>23</th>\n",
       "      <td>Voyages / Vacances</td>\n",
       "      <td>Loisirs &amp; Sorties</td>\n",
       "      <td>16.30</td>\n",
       "    </tr>\n",
       "    <tr>\n",
       "      <th>24</th>\n",
       "      <td>Santé - Autres</td>\n",
       "      <td>Santé</td>\n",
       "      <td>77.07</td>\n",
       "    </tr>\n",
       "  </tbody>\n",
       "</table>\n",
       "</div>"
      ],
      "text/plain": [
       "                Sous-Catégorie               Catégorie  Montant\n",
       "0                     Internet             Abonnements    34.99\n",
       "1            Téléphonie mobile             Abonnements    15.99\n",
       "2   Achats & Shopping - Autres       Achats & Shopping   203.36\n",
       "3                      Cadeaux       Achats & Shopping    91.41\n",
       "4        Alimentation - Autres  Alimentation & Restau.     7.50\n",
       "5                         Café  Alimentation & Restau.     6.60\n",
       "6                   Fast foods  Alimentation & Restau.    88.40\n",
       "7                  Restaurants  Alimentation & Restau.    55.68\n",
       "8       Supermarché / Epicerie  Alimentation & Restau.   194.70\n",
       "9   Auto & Transports - Autres       Auto & Transports    12.35\n",
       "10                   Carburant       Auto & Transports    40.27\n",
       "11                     Epargne                  Banque    75.00\n",
       "12             Frais bancaires                  Banque     2.00\n",
       "13       Remboursement emprunt                  Banque  1974.63\n",
       "14                   Assurance                  Divers    17.66\n",
       "15             Autres dépenses                  Divers     9.99\n",
       "16        Assurance habitation                Logement    16.50\n",
       "17            Charges diverses                Logement   376.98\n",
       "18                 Electricité                Logement    36.96\n",
       "19                Bars / Clubs       Loisirs & Sorties    59.50\n",
       "20             Divertissements       Loisirs & Sorties    15.00\n",
       "21        Sortie au restaurant       Loisirs & Sorties    75.57\n",
       "22                       Sport       Loisirs & Sorties   479.90\n",
       "23          Voyages / Vacances       Loisirs & Sorties    16.30\n",
       "24              Santé - Autres                   Santé    77.07"
      ]
     },
     "execution_count": 61,
     "metadata": {},
     "output_type": "execute_result"
    }
   ],
   "source": [
    "# grouped_df.swaplevel().reset_index()\n",
    "to_plot = grouped_df.swaplevel().reset_index()\n",
    "to_plot"
   ]
  },
  {
   "cell_type": "code",
   "execution_count": 68,
   "metadata": {},
   "outputs": [],
   "source": [
    "labels = [\"Origin\"] + list(to_plot[\"Catégorie\"].unique()) + list(to_plot[\"Sous-Catégorie\"].unique())\n",
    "mapped_labels = {k: v for v, k in enumerate(labels)}\n",
    "\n",
    "m_source, m_target, m_value = [], [], []\n",
    "\n",
    "for line in to_plot.iterrows():\n",
    "    m_source.append(0)\n",
    "    m_target.append(mapped_labels[line[1][\"Catégorie\"]])\n",
    "    m_value.append(line[1][\"Montant\"])\n",
    "    \n",
    "    m_source.append(mapped_labels[line[1][\"Catégorie\"]])\n",
    "    m_target.append(mapped_labels[line[1][\"Sous-Catégorie\"]])\n",
    "    m_value.append(line[1][\"Montant\"])\n",
    "    # break\n",
    "\n",
    "# print(m_source, m_target, m_value)"
   ]
  },
  {
   "cell_type": "code",
   "execution_count": 67,
   "metadata": {},
   "outputs": [
    {
     "data": {
      "application/vnd.plotly.v1+json": {
       "config": {
        "plotlyServerURL": "https://plot.ly"
       },
       "data": [
        {
         "link": {
          "source": [
           0,
           1,
           0,
           1,
           0,
           2,
           0,
           2,
           0,
           3,
           0,
           3,
           0,
           3,
           0,
           3,
           0,
           3,
           0,
           4,
           0,
           4,
           0,
           5,
           0,
           5,
           0,
           5,
           0,
           6,
           0,
           6,
           0,
           7,
           0,
           7,
           0,
           7,
           0,
           8,
           0,
           8,
           0,
           8,
           0,
           8,
           0,
           8,
           0,
           9
          ],
          "target": [
           1,
           10,
           1,
           11,
           2,
           12,
           2,
           13,
           3,
           14,
           3,
           15,
           3,
           16,
           3,
           17,
           3,
           18,
           4,
           19,
           4,
           20,
           5,
           21,
           5,
           22,
           5,
           23,
           6,
           24,
           6,
           25,
           7,
           26,
           7,
           27,
           7,
           28,
           8,
           29,
           8,
           30,
           8,
           31,
           8,
           32,
           8,
           33,
           9,
           34
          ],
          "value": [
           34.99,
           34.99,
           15.99,
           15.99,
           203.36,
           203.36,
           91.41,
           91.41,
           7.5,
           7.5,
           6.6,
           6.6,
           88.4,
           88.4,
           55.68,
           55.68,
           194.7,
           194.7,
           12.35,
           12.35,
           40.269999999999996,
           40.269999999999996,
           75,
           75,
           2,
           2,
           1974.63,
           1974.63,
           17.66,
           17.66,
           9.99,
           9.99,
           16.5,
           16.5,
           376.98,
           376.98,
           36.96,
           36.96,
           59.5,
           59.5,
           15,
           15,
           75.57,
           75.57,
           479.9,
           479.9,
           16.3,
           16.3,
           77.07,
           77.07
          ]
         },
         "node": {
          "label": [
           "Origin",
           "Abonnements",
           "Achats & Shopping",
           "Alimentation & Restau.",
           "Auto & Transports",
           "Banque",
           "Divers",
           "Logement",
           "Loisirs & Sorties",
           "Santé",
           "Internet",
           "Téléphonie mobile",
           "Achats & Shopping - Autres",
           "Cadeaux",
           "Alimentation - Autres",
           "Café",
           "Fast foods",
           "Restaurants",
           "Supermarché / Epicerie",
           "Auto & Transports - Autres",
           "Carburant",
           "Epargne",
           "Frais bancaires",
           "Remboursement emprunt",
           "Assurance",
           "Autres dépenses",
           "Assurance habitation",
           "Charges diverses",
           "Electricité",
           "Bars / Clubs",
           "Divertissements",
           "Sortie au restaurant",
           "Sport",
           "Voyages / Vacances",
           "Santé - Autres"
          ],
          "line": {
           "color": "black",
           "width": 0.5
          },
          "pad": 15,
          "thickness": 50
         },
         "type": "sankey",
         "valueformat": ".0f",
         "valuesuffix": "€"
        }
       ],
       "layout": {
        "font": {
         "size": 15
        },
        "height": 900,
        "margin": {
         "b": 100,
         "l": 50,
         "pad": 4,
         "r": 50,
         "t": 100
        },
        "template": {
         "data": {
          "bar": [
           {
            "error_x": {
             "color": "#2a3f5f"
            },
            "error_y": {
             "color": "#2a3f5f"
            },
            "marker": {
             "line": {
              "color": "#E5ECF6",
              "width": 0.5
             },
             "pattern": {
              "fillmode": "overlay",
              "size": 10,
              "solidity": 0.2
             }
            },
            "type": "bar"
           }
          ],
          "barpolar": [
           {
            "marker": {
             "line": {
              "color": "#E5ECF6",
              "width": 0.5
             },
             "pattern": {
              "fillmode": "overlay",
              "size": 10,
              "solidity": 0.2
             }
            },
            "type": "barpolar"
           }
          ],
          "carpet": [
           {
            "aaxis": {
             "endlinecolor": "#2a3f5f",
             "gridcolor": "white",
             "linecolor": "white",
             "minorgridcolor": "white",
             "startlinecolor": "#2a3f5f"
            },
            "baxis": {
             "endlinecolor": "#2a3f5f",
             "gridcolor": "white",
             "linecolor": "white",
             "minorgridcolor": "white",
             "startlinecolor": "#2a3f5f"
            },
            "type": "carpet"
           }
          ],
          "choropleth": [
           {
            "colorbar": {
             "outlinewidth": 0,
             "ticks": ""
            },
            "type": "choropleth"
           }
          ],
          "contour": [
           {
            "colorbar": {
             "outlinewidth": 0,
             "ticks": ""
            },
            "colorscale": [
             [
              0,
              "#0d0887"
             ],
             [
              0.1111111111111111,
              "#46039f"
             ],
             [
              0.2222222222222222,
              "#7201a8"
             ],
             [
              0.3333333333333333,
              "#9c179e"
             ],
             [
              0.4444444444444444,
              "#bd3786"
             ],
             [
              0.5555555555555556,
              "#d8576b"
             ],
             [
              0.6666666666666666,
              "#ed7953"
             ],
             [
              0.7777777777777778,
              "#fb9f3a"
             ],
             [
              0.8888888888888888,
              "#fdca26"
             ],
             [
              1,
              "#f0f921"
             ]
            ],
            "type": "contour"
           }
          ],
          "contourcarpet": [
           {
            "colorbar": {
             "outlinewidth": 0,
             "ticks": ""
            },
            "type": "contourcarpet"
           }
          ],
          "heatmap": [
           {
            "colorbar": {
             "outlinewidth": 0,
             "ticks": ""
            },
            "colorscale": [
             [
              0,
              "#0d0887"
             ],
             [
              0.1111111111111111,
              "#46039f"
             ],
             [
              0.2222222222222222,
              "#7201a8"
             ],
             [
              0.3333333333333333,
              "#9c179e"
             ],
             [
              0.4444444444444444,
              "#bd3786"
             ],
             [
              0.5555555555555556,
              "#d8576b"
             ],
             [
              0.6666666666666666,
              "#ed7953"
             ],
             [
              0.7777777777777778,
              "#fb9f3a"
             ],
             [
              0.8888888888888888,
              "#fdca26"
             ],
             [
              1,
              "#f0f921"
             ]
            ],
            "type": "heatmap"
           }
          ],
          "heatmapgl": [
           {
            "colorbar": {
             "outlinewidth": 0,
             "ticks": ""
            },
            "colorscale": [
             [
              0,
              "#0d0887"
             ],
             [
              0.1111111111111111,
              "#46039f"
             ],
             [
              0.2222222222222222,
              "#7201a8"
             ],
             [
              0.3333333333333333,
              "#9c179e"
             ],
             [
              0.4444444444444444,
              "#bd3786"
             ],
             [
              0.5555555555555556,
              "#d8576b"
             ],
             [
              0.6666666666666666,
              "#ed7953"
             ],
             [
              0.7777777777777778,
              "#fb9f3a"
             ],
             [
              0.8888888888888888,
              "#fdca26"
             ],
             [
              1,
              "#f0f921"
             ]
            ],
            "type": "heatmapgl"
           }
          ],
          "histogram": [
           {
            "marker": {
             "pattern": {
              "fillmode": "overlay",
              "size": 10,
              "solidity": 0.2
             }
            },
            "type": "histogram"
           }
          ],
          "histogram2d": [
           {
            "colorbar": {
             "outlinewidth": 0,
             "ticks": ""
            },
            "colorscale": [
             [
              0,
              "#0d0887"
             ],
             [
              0.1111111111111111,
              "#46039f"
             ],
             [
              0.2222222222222222,
              "#7201a8"
             ],
             [
              0.3333333333333333,
              "#9c179e"
             ],
             [
              0.4444444444444444,
              "#bd3786"
             ],
             [
              0.5555555555555556,
              "#d8576b"
             ],
             [
              0.6666666666666666,
              "#ed7953"
             ],
             [
              0.7777777777777778,
              "#fb9f3a"
             ],
             [
              0.8888888888888888,
              "#fdca26"
             ],
             [
              1,
              "#f0f921"
             ]
            ],
            "type": "histogram2d"
           }
          ],
          "histogram2dcontour": [
           {
            "colorbar": {
             "outlinewidth": 0,
             "ticks": ""
            },
            "colorscale": [
             [
              0,
              "#0d0887"
             ],
             [
              0.1111111111111111,
              "#46039f"
             ],
             [
              0.2222222222222222,
              "#7201a8"
             ],
             [
              0.3333333333333333,
              "#9c179e"
             ],
             [
              0.4444444444444444,
              "#bd3786"
             ],
             [
              0.5555555555555556,
              "#d8576b"
             ],
             [
              0.6666666666666666,
              "#ed7953"
             ],
             [
              0.7777777777777778,
              "#fb9f3a"
             ],
             [
              0.8888888888888888,
              "#fdca26"
             ],
             [
              1,
              "#f0f921"
             ]
            ],
            "type": "histogram2dcontour"
           }
          ],
          "mesh3d": [
           {
            "colorbar": {
             "outlinewidth": 0,
             "ticks": ""
            },
            "type": "mesh3d"
           }
          ],
          "parcoords": [
           {
            "line": {
             "colorbar": {
              "outlinewidth": 0,
              "ticks": ""
             }
            },
            "type": "parcoords"
           }
          ],
          "pie": [
           {
            "automargin": true,
            "type": "pie"
           }
          ],
          "scatter": [
           {
            "fillpattern": {
             "fillmode": "overlay",
             "size": 10,
             "solidity": 0.2
            },
            "type": "scatter"
           }
          ],
          "scatter3d": [
           {
            "line": {
             "colorbar": {
              "outlinewidth": 0,
              "ticks": ""
             }
            },
            "marker": {
             "colorbar": {
              "outlinewidth": 0,
              "ticks": ""
             }
            },
            "type": "scatter3d"
           }
          ],
          "scattercarpet": [
           {
            "marker": {
             "colorbar": {
              "outlinewidth": 0,
              "ticks": ""
             }
            },
            "type": "scattercarpet"
           }
          ],
          "scattergeo": [
           {
            "marker": {
             "colorbar": {
              "outlinewidth": 0,
              "ticks": ""
             }
            },
            "type": "scattergeo"
           }
          ],
          "scattergl": [
           {
            "marker": {
             "colorbar": {
              "outlinewidth": 0,
              "ticks": ""
             }
            },
            "type": "scattergl"
           }
          ],
          "scattermapbox": [
           {
            "marker": {
             "colorbar": {
              "outlinewidth": 0,
              "ticks": ""
             }
            },
            "type": "scattermapbox"
           }
          ],
          "scatterpolar": [
           {
            "marker": {
             "colorbar": {
              "outlinewidth": 0,
              "ticks": ""
             }
            },
            "type": "scatterpolar"
           }
          ],
          "scatterpolargl": [
           {
            "marker": {
             "colorbar": {
              "outlinewidth": 0,
              "ticks": ""
             }
            },
            "type": "scatterpolargl"
           }
          ],
          "scatterternary": [
           {
            "marker": {
             "colorbar": {
              "outlinewidth": 0,
              "ticks": ""
             }
            },
            "type": "scatterternary"
           }
          ],
          "surface": [
           {
            "colorbar": {
             "outlinewidth": 0,
             "ticks": ""
            },
            "colorscale": [
             [
              0,
              "#0d0887"
             ],
             [
              0.1111111111111111,
              "#46039f"
             ],
             [
              0.2222222222222222,
              "#7201a8"
             ],
             [
              0.3333333333333333,
              "#9c179e"
             ],
             [
              0.4444444444444444,
              "#bd3786"
             ],
             [
              0.5555555555555556,
              "#d8576b"
             ],
             [
              0.6666666666666666,
              "#ed7953"
             ],
             [
              0.7777777777777778,
              "#fb9f3a"
             ],
             [
              0.8888888888888888,
              "#fdca26"
             ],
             [
              1,
              "#f0f921"
             ]
            ],
            "type": "surface"
           }
          ],
          "table": [
           {
            "cells": {
             "fill": {
              "color": "#EBF0F8"
             },
             "line": {
              "color": "white"
             }
            },
            "header": {
             "fill": {
              "color": "#C8D4E3"
             },
             "line": {
              "color": "white"
             }
            },
            "type": "table"
           }
          ]
         },
         "layout": {
          "annotationdefaults": {
           "arrowcolor": "#2a3f5f",
           "arrowhead": 0,
           "arrowwidth": 1
          },
          "autotypenumbers": "strict",
          "coloraxis": {
           "colorbar": {
            "outlinewidth": 0,
            "ticks": ""
           }
          },
          "colorscale": {
           "diverging": [
            [
             0,
             "#8e0152"
            ],
            [
             0.1,
             "#c51b7d"
            ],
            [
             0.2,
             "#de77ae"
            ],
            [
             0.3,
             "#f1b6da"
            ],
            [
             0.4,
             "#fde0ef"
            ],
            [
             0.5,
             "#f7f7f7"
            ],
            [
             0.6,
             "#e6f5d0"
            ],
            [
             0.7,
             "#b8e186"
            ],
            [
             0.8,
             "#7fbc41"
            ],
            [
             0.9,
             "#4d9221"
            ],
            [
             1,
             "#276419"
            ]
           ],
           "sequential": [
            [
             0,
             "#0d0887"
            ],
            [
             0.1111111111111111,
             "#46039f"
            ],
            [
             0.2222222222222222,
             "#7201a8"
            ],
            [
             0.3333333333333333,
             "#9c179e"
            ],
            [
             0.4444444444444444,
             "#bd3786"
            ],
            [
             0.5555555555555556,
             "#d8576b"
            ],
            [
             0.6666666666666666,
             "#ed7953"
            ],
            [
             0.7777777777777778,
             "#fb9f3a"
            ],
            [
             0.8888888888888888,
             "#fdca26"
            ],
            [
             1,
             "#f0f921"
            ]
           ],
           "sequentialminus": [
            [
             0,
             "#0d0887"
            ],
            [
             0.1111111111111111,
             "#46039f"
            ],
            [
             0.2222222222222222,
             "#7201a8"
            ],
            [
             0.3333333333333333,
             "#9c179e"
            ],
            [
             0.4444444444444444,
             "#bd3786"
            ],
            [
             0.5555555555555556,
             "#d8576b"
            ],
            [
             0.6666666666666666,
             "#ed7953"
            ],
            [
             0.7777777777777778,
             "#fb9f3a"
            ],
            [
             0.8888888888888888,
             "#fdca26"
            ],
            [
             1,
             "#f0f921"
            ]
           ]
          },
          "colorway": [
           "#636efa",
           "#EF553B",
           "#00cc96",
           "#ab63fa",
           "#FFA15A",
           "#19d3f3",
           "#FF6692",
           "#B6E880",
           "#FF97FF",
           "#FECB52"
          ],
          "font": {
           "color": "#2a3f5f"
          },
          "geo": {
           "bgcolor": "white",
           "lakecolor": "white",
           "landcolor": "#E5ECF6",
           "showlakes": true,
           "showland": true,
           "subunitcolor": "white"
          },
          "hoverlabel": {
           "align": "left"
          },
          "hovermode": "closest",
          "mapbox": {
           "style": "light"
          },
          "paper_bgcolor": "white",
          "plot_bgcolor": "#E5ECF6",
          "polar": {
           "angularaxis": {
            "gridcolor": "white",
            "linecolor": "white",
            "ticks": ""
           },
           "bgcolor": "#E5ECF6",
           "radialaxis": {
            "gridcolor": "white",
            "linecolor": "white",
            "ticks": ""
           }
          },
          "scene": {
           "xaxis": {
            "backgroundcolor": "#E5ECF6",
            "gridcolor": "white",
            "gridwidth": 2,
            "linecolor": "white",
            "showbackground": true,
            "ticks": "",
            "zerolinecolor": "white"
           },
           "yaxis": {
            "backgroundcolor": "#E5ECF6",
            "gridcolor": "white",
            "gridwidth": 2,
            "linecolor": "white",
            "showbackground": true,
            "ticks": "",
            "zerolinecolor": "white"
           },
           "zaxis": {
            "backgroundcolor": "#E5ECF6",
            "gridcolor": "white",
            "gridwidth": 2,
            "linecolor": "white",
            "showbackground": true,
            "ticks": "",
            "zerolinecolor": "white"
           }
          },
          "shapedefaults": {
           "line": {
            "color": "#2a3f5f"
           }
          },
          "ternary": {
           "aaxis": {
            "gridcolor": "white",
            "linecolor": "white",
            "ticks": ""
           },
           "baxis": {
            "gridcolor": "white",
            "linecolor": "white",
            "ticks": ""
           },
           "bgcolor": "#E5ECF6",
           "caxis": {
            "gridcolor": "white",
            "linecolor": "white",
            "ticks": ""
           }
          },
          "title": {
           "x": 0.05
          },
          "xaxis": {
           "automargin": true,
           "gridcolor": "white",
           "linecolor": "white",
           "ticks": "",
           "title": {
            "standoff": 15
           },
           "zerolinecolor": "white",
           "zerolinewidth": 2
          },
          "yaxis": {
           "automargin": true,
           "gridcolor": "white",
           "linecolor": "white",
           "ticks": "",
           "title": {
            "standoff": 15
           },
           "zerolinecolor": "white",
           "zerolinewidth": 2
          }
         }
        },
        "title": {
         "text": "Basic Sankey Diagram"
        },
        "width": 1500
       }
      }
     },
     "metadata": {},
     "output_type": "display_data"
    }
   ],
   "source": [
    "fig = go.Figure(\n",
    "  data=[go.Sankey(\n",
    "    valueformat = \".0f\",\n",
    "    valuesuffix = \"€\",\n",
    "\n",
    "    node = dict(\n",
    "      pad = 15,\n",
    "      thickness = 50,\n",
    "      line = dict(color = \"black\", width = 0.5),\n",
    "      label = labels,\n",
    "      # color = \"blue\"\n",
    "    ),\n",
    "    link = dict(\n",
    "      source = m_source,\n",
    "      target = m_target,\n",
    "      value = m_value\n",
    "  ))])\n",
    "\n",
    "fig.update_layout(\n",
    "  title_text=\"Basic Sankey Diagram\", \n",
    "  # autosize=False,\n",
    "  font_size=15,\n",
    "  width=1500,\n",
    "  height=900,\n",
    "  margin=dict(\n",
    "        l=50,\n",
    "        r=50,\n",
    "        b=100,\n",
    "        t=100,\n",
    "        pad=4\n",
    "    )  \n",
    "  )\n",
    "fig.show()"
   ]
  },
  {
   "cell_type": "code",
   "execution_count": null,
   "metadata": {},
   "outputs": [],
   "source": []
  },
  {
   "cell_type": "code",
   "execution_count": null,
   "metadata": {},
   "outputs": [],
   "source": []
  }
 ],
 "metadata": {
  "kernelspec": {
   "display_name": "Python 3",
   "language": "python",
   "name": "python3"
  },
  "language_info": {
   "codemirror_mode": {
    "name": "ipython",
    "version": 3
   },
   "file_extension": ".py",
   "mimetype": "text/x-python",
   "name": "python",
   "nbconvert_exporter": "python",
   "pygments_lexer": "ipython3",
   "version": "3.11.3"
  },
  "orig_nbformat": 4
 },
 "nbformat": 4,
 "nbformat_minor": 2
}
